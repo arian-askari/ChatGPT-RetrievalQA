{
  "nbformat": 4,
  "nbformat_minor": 0,
  "metadata": {
    "colab": {
      "provenance": [],
      "collapsed_sections": [
        "mwm0_Rh5MJ-d",
        "IGrh1QOZaSqt",
        "0ZvgdJx_aUYL",
        "L9Ic0w1QbgDr",
        "c0vyoTd5cJ1H",
        "wp6R4T60cj0B",
        "H3nwW34Re83U",
        "8sIexSoNe_Wc",
        "_Y8hmKA3g_XU",
        "jyYly2EkhBqn",
        "dW3S8cutoEhx"
      ],
      "toc_visible": true,
      "machine_shape": "hm"
    },
    "kernelspec": {
      "name": "python3",
      "display_name": "Python 3"
    },
    "language_info": {
      "name": "python"
    },
    "accelerator": "GPU",
    "gpuClass": "premium"
  },
  "cells": [
    {
      "cell_type": "markdown",
      "source": [
        "## Install libraries and load utils"
      ],
      "metadata": {
        "id": "mwm0_Rh5MJ-d"
      }
    },
    {
      "cell_type": "code",
      "source": [
        "!pip install pytrec_eval\n",
        "!pip install sentence_transformers\n",
        "import pytrec_eval\n",
        "import json\n",
        "import tqdm\n",
        "import numpy as np\n",
        "from google.colab import drive\n",
        "drive.mount('/content/gdrive')\n",
        "COLAB_RUN = True\n",
        "if COLAB_RUN:\n",
        "  base_path = \"./gdrive/MyDrive/ChatGPT-RetrievalQA/\"\n",
        "else:\n",
        "  base_path = \"/data/arianaskariaa/chatgpt_retrievalqa/data/\""
      ],
      "metadata": {
        "colab": {
          "base_uri": "https://localhost:8080/",
          "height": 1000
        },
        "id": "ZxrIi8BjMFlX",
        "outputId": "5b34e11c-a062-4a6a-bfc9-6f576b8dbdcc"
      },
      "execution_count": null,
      "outputs": [
        {
          "output_type": "stream",
          "name": "stdout",
          "text": [
            "Looking in indexes: https://pypi.org/simple, https://us-python.pkg.dev/colab-wheels/public/simple/\n",
            "Collecting pytrec_eval\n",
            "  Downloading pytrec_eval-0.5.tar.gz (15 kB)\n",
            "  Preparing metadata (setup.py) ... \u001b[?25l\u001b[?25hdone\n",
            "Building wheels for collected packages: pytrec_eval\n",
            "  Building wheel for pytrec_eval (setup.py) ... \u001b[?25l\u001b[?25hdone\n",
            "  Created wheel for pytrec_eval: filename=pytrec_eval-0.5-cp38-cp38-linux_x86_64.whl size=304307 sha256=999195c7249662fb7acbf9a94f0b98bb6829c3ce3beb323ad8ace1fe4605bdbb\n",
            "  Stored in directory: /root/.cache/pip/wheels/65/5a/e7/115104a6d6ebacea7cbd7434fdba04bd06b6756820994a326e\n",
            "Successfully built pytrec_eval\n",
            "Installing collected packages: pytrec_eval\n",
            "Successfully installed pytrec_eval-0.5\n",
            "Looking in indexes: https://pypi.org/simple, https://us-python.pkg.dev/colab-wheels/public/simple/\n",
            "Collecting sentence_transformers\n",
            "  Downloading sentence-transformers-2.2.2.tar.gz (85 kB)\n",
            "\u001b[2K     \u001b[90m━━━━━━━━━━━━━━━━━━━━━━━━━━━━━━━━━━━━━━━━\u001b[0m \u001b[32m86.0/86.0 KB\u001b[0m \u001b[31m9.1 MB/s\u001b[0m eta \u001b[36m0:00:00\u001b[0m\n",
            "\u001b[?25h  Preparing metadata (setup.py) ... \u001b[?25l\u001b[?25hdone\n",
            "Collecting transformers<5.0.0,>=4.6.0\n",
            "  Downloading transformers-4.26.1-py3-none-any.whl (6.3 MB)\n",
            "\u001b[2K     \u001b[90m━━━━━━━━━━━━━━━━━━━━━━━━━━━━━━━━━━━━━━━━\u001b[0m \u001b[32m6.3/6.3 MB\u001b[0m \u001b[31m101.4 MB/s\u001b[0m eta \u001b[36m0:00:00\u001b[0m\n",
            "\u001b[?25hRequirement already satisfied: tqdm in /usr/local/lib/python3.8/dist-packages (from sentence_transformers) (4.64.1)\n",
            "Requirement already satisfied: torch>=1.6.0 in /usr/local/lib/python3.8/dist-packages (from sentence_transformers) (1.13.1+cu116)\n",
            "Requirement already satisfied: torchvision in /usr/local/lib/python3.8/dist-packages (from sentence_transformers) (0.14.1+cu116)\n",
            "Requirement already satisfied: numpy in /usr/local/lib/python3.8/dist-packages (from sentence_transformers) (1.21.6)\n",
            "Requirement already satisfied: scikit-learn in /usr/local/lib/python3.8/dist-packages (from sentence_transformers) (1.0.2)\n",
            "Requirement already satisfied: scipy in /usr/local/lib/python3.8/dist-packages (from sentence_transformers) (1.7.3)\n",
            "Requirement already satisfied: nltk in /usr/local/lib/python3.8/dist-packages (from sentence_transformers) (3.7)\n",
            "Collecting sentencepiece\n",
            "  Downloading sentencepiece-0.1.97-cp38-cp38-manylinux_2_17_x86_64.manylinux2014_x86_64.whl (1.3 MB)\n",
            "\u001b[2K     \u001b[90m━━━━━━━━━━━━━━━━━━━━━━━━━━━━━━━━━━━━━━━━\u001b[0m \u001b[32m1.3/1.3 MB\u001b[0m \u001b[31m71.6 MB/s\u001b[0m eta \u001b[36m0:00:00\u001b[0m\n",
            "\u001b[?25hCollecting huggingface-hub>=0.4.0\n",
            "  Downloading huggingface_hub-0.12.0-py3-none-any.whl (190 kB)\n",
            "\u001b[2K     \u001b[90m━━━━━━━━━━━━━━━━━━━━━━━━━━━━━━━━━━━━━━\u001b[0m \u001b[32m190.3/190.3 KB\u001b[0m \u001b[31m25.6 MB/s\u001b[0m eta \u001b[36m0:00:00\u001b[0m\n",
            "\u001b[?25hRequirement already satisfied: typing-extensions>=3.7.4.3 in /usr/local/lib/python3.8/dist-packages (from huggingface-hub>=0.4.0->sentence_transformers) (4.4.0)\n",
            "Requirement already satisfied: requests in /usr/local/lib/python3.8/dist-packages (from huggingface-hub>=0.4.0->sentence_transformers) (2.25.1)\n",
            "Requirement already satisfied: filelock in /usr/local/lib/python3.8/dist-packages (from huggingface-hub>=0.4.0->sentence_transformers) (3.9.0)\n",
            "Requirement already satisfied: packaging>=20.9 in /usr/local/lib/python3.8/dist-packages (from huggingface-hub>=0.4.0->sentence_transformers) (23.0)\n",
            "Requirement already satisfied: pyyaml>=5.1 in /usr/local/lib/python3.8/dist-packages (from huggingface-hub>=0.4.0->sentence_transformers) (6.0)\n",
            "Requirement already satisfied: regex!=2019.12.17 in /usr/local/lib/python3.8/dist-packages (from transformers<5.0.0,>=4.6.0->sentence_transformers) (2022.6.2)\n",
            "Collecting tokenizers!=0.11.3,<0.14,>=0.11.1\n",
            "  Downloading tokenizers-0.13.2-cp38-cp38-manylinux_2_17_x86_64.manylinux2014_x86_64.whl (7.6 MB)\n",
            "\u001b[2K     \u001b[90m━━━━━━━━━━━━━━━━━━━━━━━━━━━━━━━━━━━━━━━━\u001b[0m \u001b[32m7.6/7.6 MB\u001b[0m \u001b[31m88.1 MB/s\u001b[0m eta \u001b[36m0:00:00\u001b[0m\n",
            "\u001b[?25hRequirement already satisfied: click in /usr/local/lib/python3.8/dist-packages (from nltk->sentence_transformers) (7.1.2)\n",
            "Requirement already satisfied: joblib in /usr/local/lib/python3.8/dist-packages (from nltk->sentence_transformers) (1.2.0)\n",
            "Requirement already satisfied: threadpoolctl>=2.0.0 in /usr/local/lib/python3.8/dist-packages (from scikit-learn->sentence_transformers) (3.1.0)\n",
            "Requirement already satisfied: pillow!=8.3.*,>=5.3.0 in /usr/local/lib/python3.8/dist-packages (from torchvision->sentence_transformers) (7.1.2)\n",
            "Requirement already satisfied: urllib3<1.27,>=1.21.1 in /usr/local/lib/python3.8/dist-packages (from requests->huggingface-hub>=0.4.0->sentence_transformers) (1.24.3)\n",
            "Requirement already satisfied: chardet<5,>=3.0.2 in /usr/local/lib/python3.8/dist-packages (from requests->huggingface-hub>=0.4.0->sentence_transformers) (4.0.0)\n",
            "Requirement already satisfied: idna<3,>=2.5 in /usr/local/lib/python3.8/dist-packages (from requests->huggingface-hub>=0.4.0->sentence_transformers) (2.10)\n",
            "Requirement already satisfied: certifi>=2017.4.17 in /usr/local/lib/python3.8/dist-packages (from requests->huggingface-hub>=0.4.0->sentence_transformers) (2022.12.7)\n",
            "Building wheels for collected packages: sentence_transformers\n",
            "  Building wheel for sentence_transformers (setup.py) ... \u001b[?25l\u001b[?25hdone\n",
            "  Created wheel for sentence_transformers: filename=sentence_transformers-2.2.2-py3-none-any.whl size=125938 sha256=ca777b56bfde26afdc2cbbee406745c2e1e365b222f3c3cd8254caa0eafde484\n",
            "  Stored in directory: /root/.cache/pip/wheels/5e/6f/8c/d88aec621f3f542d26fac0342bef5e693335d125f4e54aeffe\n",
            "Successfully built sentence_transformers\n",
            "Installing collected packages: tokenizers, sentencepiece, huggingface-hub, transformers, sentence_transformers\n",
            "Successfully installed huggingface-hub-0.12.0 sentence_transformers-2.2.2 sentencepiece-0.1.97 tokenizers-0.13.2 transformers-4.26.1\n"
          ]
        },
        {
          "output_type": "error",
          "ename": "MessageError",
          "evalue": "ignored",
          "traceback": [
            "\u001b[0;31m---------------------------------------------------------------------------\u001b[0m",
            "\u001b[0;31mMessageError\u001b[0m                              Traceback (most recent call last)",
            "\u001b[0;32m<ipython-input-1-505981f56a7e>\u001b[0m in \u001b[0;36m<module>\u001b[0;34m\u001b[0m\n\u001b[1;32m      6\u001b[0m \u001b[0;32mimport\u001b[0m \u001b[0mnumpy\u001b[0m \u001b[0;32mas\u001b[0m \u001b[0mnp\u001b[0m\u001b[0;34m\u001b[0m\u001b[0;34m\u001b[0m\u001b[0m\n\u001b[1;32m      7\u001b[0m \u001b[0;32mfrom\u001b[0m \u001b[0mgoogle\u001b[0m\u001b[0;34m.\u001b[0m\u001b[0mcolab\u001b[0m \u001b[0;32mimport\u001b[0m \u001b[0mdrive\u001b[0m\u001b[0;34m\u001b[0m\u001b[0;34m\u001b[0m\u001b[0m\n\u001b[0;32m----> 8\u001b[0;31m \u001b[0mdrive\u001b[0m\u001b[0;34m.\u001b[0m\u001b[0mmount\u001b[0m\u001b[0;34m(\u001b[0m\u001b[0;34m'/content/gdrive'\u001b[0m\u001b[0;34m)\u001b[0m\u001b[0;34m\u001b[0m\u001b[0;34m\u001b[0m\u001b[0m\n\u001b[0m\u001b[1;32m      9\u001b[0m \u001b[0mCOLAB_RUN\u001b[0m \u001b[0;34m=\u001b[0m \u001b[0;32mTrue\u001b[0m\u001b[0;34m\u001b[0m\u001b[0;34m\u001b[0m\u001b[0m\n\u001b[1;32m     10\u001b[0m \u001b[0;32mif\u001b[0m \u001b[0mCOLAB_RUN\u001b[0m\u001b[0;34m:\u001b[0m\u001b[0;34m\u001b[0m\u001b[0;34m\u001b[0m\u001b[0m\n",
            "\u001b[0;32m/usr/local/lib/python3.8/dist-packages/google/colab/drive.py\u001b[0m in \u001b[0;36mmount\u001b[0;34m(mountpoint, force_remount, timeout_ms, readonly)\u001b[0m\n\u001b[1;32m     98\u001b[0m \u001b[0;32mdef\u001b[0m \u001b[0mmount\u001b[0m\u001b[0;34m(\u001b[0m\u001b[0mmountpoint\u001b[0m\u001b[0;34m,\u001b[0m \u001b[0mforce_remount\u001b[0m\u001b[0;34m=\u001b[0m\u001b[0;32mFalse\u001b[0m\u001b[0;34m,\u001b[0m \u001b[0mtimeout_ms\u001b[0m\u001b[0;34m=\u001b[0m\u001b[0;36m120000\u001b[0m\u001b[0;34m,\u001b[0m \u001b[0mreadonly\u001b[0m\u001b[0;34m=\u001b[0m\u001b[0;32mFalse\u001b[0m\u001b[0;34m)\u001b[0m\u001b[0;34m:\u001b[0m\u001b[0;34m\u001b[0m\u001b[0;34m\u001b[0m\u001b[0m\n\u001b[1;32m     99\u001b[0m   \u001b[0;34m\"\"\"Mount your Google Drive at the specified mountpoint path.\"\"\"\u001b[0m\u001b[0;34m\u001b[0m\u001b[0;34m\u001b[0m\u001b[0m\n\u001b[0;32m--> 100\u001b[0;31m   return _mount(\n\u001b[0m\u001b[1;32m    101\u001b[0m       \u001b[0mmountpoint\u001b[0m\u001b[0;34m,\u001b[0m\u001b[0;34m\u001b[0m\u001b[0;34m\u001b[0m\u001b[0m\n\u001b[1;32m    102\u001b[0m       \u001b[0mforce_remount\u001b[0m\u001b[0;34m=\u001b[0m\u001b[0mforce_remount\u001b[0m\u001b[0;34m,\u001b[0m\u001b[0;34m\u001b[0m\u001b[0;34m\u001b[0m\u001b[0m\n",
            "\u001b[0;32m/usr/local/lib/python3.8/dist-packages/google/colab/drive.py\u001b[0m in \u001b[0;36m_mount\u001b[0;34m(mountpoint, force_remount, timeout_ms, ephemeral, readonly)\u001b[0m\n\u001b[1;32m    121\u001b[0m       'TBE_EPHEM_CREDS_ADDR'] if ephemeral else _os.environ['TBE_CREDS_ADDR']\n\u001b[1;32m    122\u001b[0m   \u001b[0;32mif\u001b[0m \u001b[0mephemeral\u001b[0m\u001b[0;34m:\u001b[0m\u001b[0;34m\u001b[0m\u001b[0;34m\u001b[0m\u001b[0m\n\u001b[0;32m--> 123\u001b[0;31m     _message.blocking_request(\n\u001b[0m\u001b[1;32m    124\u001b[0m         'request_auth', request={'authType': 'dfs_ephemeral'}, timeout_sec=None)\n\u001b[1;32m    125\u001b[0m \u001b[0;34m\u001b[0m\u001b[0m\n",
            "\u001b[0;32m/usr/local/lib/python3.8/dist-packages/google/colab/_message.py\u001b[0m in \u001b[0;36mblocking_request\u001b[0;34m(request_type, request, timeout_sec, parent)\u001b[0m\n\u001b[1;32m    169\u001b[0m   request_id = send_request(\n\u001b[1;32m    170\u001b[0m       request_type, request, parent=parent, expect_reply=True)\n\u001b[0;32m--> 171\u001b[0;31m   \u001b[0;32mreturn\u001b[0m \u001b[0mread_reply_from_input\u001b[0m\u001b[0;34m(\u001b[0m\u001b[0mrequest_id\u001b[0m\u001b[0;34m,\u001b[0m \u001b[0mtimeout_sec\u001b[0m\u001b[0;34m)\u001b[0m\u001b[0;34m\u001b[0m\u001b[0;34m\u001b[0m\u001b[0m\n\u001b[0m",
            "\u001b[0;32m/usr/local/lib/python3.8/dist-packages/google/colab/_message.py\u001b[0m in \u001b[0;36mread_reply_from_input\u001b[0;34m(message_id, timeout_sec)\u001b[0m\n\u001b[1;32m    100\u001b[0m         reply.get('colab_msg_id') == message_id):\n\u001b[1;32m    101\u001b[0m       \u001b[0;32mif\u001b[0m \u001b[0;34m'error'\u001b[0m \u001b[0;32min\u001b[0m \u001b[0mreply\u001b[0m\u001b[0;34m:\u001b[0m\u001b[0;34m\u001b[0m\u001b[0;34m\u001b[0m\u001b[0m\n\u001b[0;32m--> 102\u001b[0;31m         \u001b[0;32mraise\u001b[0m \u001b[0mMessageError\u001b[0m\u001b[0;34m(\u001b[0m\u001b[0mreply\u001b[0m\u001b[0;34m[\u001b[0m\u001b[0;34m'error'\u001b[0m\u001b[0;34m]\u001b[0m\u001b[0;34m)\u001b[0m\u001b[0;34m\u001b[0m\u001b[0;34m\u001b[0m\u001b[0m\n\u001b[0m\u001b[1;32m    103\u001b[0m       \u001b[0;32mreturn\u001b[0m \u001b[0mreply\u001b[0m\u001b[0;34m.\u001b[0m\u001b[0mget\u001b[0m\u001b[0;34m(\u001b[0m\u001b[0;34m'data'\u001b[0m\u001b[0;34m,\u001b[0m \u001b[0;32mNone\u001b[0m\u001b[0;34m)\u001b[0m\u001b[0;34m\u001b[0m\u001b[0;34m\u001b[0m\u001b[0m\n\u001b[1;32m    104\u001b[0m \u001b[0;34m\u001b[0m\u001b[0m\n",
            "\u001b[0;31mMessageError\u001b[0m: Error: credential propagation was unsuccessful"
          ]
        }
      ]
    },
    {
      "cell_type": "code",
      "source": [
        "import math\n",
        "import sys\n",
        "from datetime import datetime\n",
        "import gzip\n",
        "import os\n",
        "import tarfile\n",
        "import logging"
      ],
      "metadata": {
        "id": "tlfCxTTNb3WP"
      },
      "execution_count": null,
      "outputs": []
    },
    {
      "cell_type": "code",
      "source": [
        "from torch.utils.data import DataLoader\n",
        "from sentence_transformers import LoggingHandler, util\n",
        "from sentence_transformers import InputExample\n",
        "from transformers import AutoTokenizer"
      ],
      "metadata": {
        "id": "gNjJfh5ZahfR"
      },
      "execution_count": null,
      "outputs": []
    },
    {
      "cell_type": "code",
      "source": [
        "import logging\n",
        "logger = logging.getLogger()\n",
        "logger.setLevel(logging.DEBUG)"
      ],
      "metadata": {
        "id": "cW-JfSwYvidk"
      },
      "execution_count": null,
      "outputs": []
    },
    {
      "cell_type": "markdown",
      "source": [
        "# CrossEncoder Class\n"
      ],
      "metadata": {
        "id": "IGrh1QOZaSqt"
      }
    },
    {
      "cell_type": "code",
      "source": [
        "from transformers import AutoModelForSequenceClassification, AutoTokenizer, AutoConfig\n",
        "import numpy as np\n",
        "import logging\n",
        "import os\n",
        "from typing import Dict, Type, Callable, List\n",
        "import transformers\n",
        "import torch\n",
        "from torch import nn\n",
        "from torch.optim import Optimizer\n",
        "from torch.utils.data import DataLoader\n",
        "from sentence_transformers import SentenceTransformer, util\n",
        "from sentence_transformers.evaluation import SentenceEvaluator\n",
        "class CrossEncoder():\n",
        "    def __init__(self, model_name:str, num_labels:int = None, max_length:int = None, device:str = None, tokenizer_args:Dict = {},\n",
        "                 default_activation_function = None):\n",
        "        \"\"\"\n",
        "        A CrossEncoder takes exactly two sentences / texts as input and either predicts\n",
        "        a score or label for this sentence pair. It can for example predict the similarity of the sentence pair\n",
        "        on a scale of 0 ... 1.\n",
        "\n",
        "        It does not yield a sentence embedding and does not work for individually sentences.\n",
        "\n",
        "        :param model_name: Any model name from Huggingface Models Repository that can be loaded with AutoModel. We provide several pre-trained CrossEncoder models that can be used for common tasks\n",
        "        :param num_labels: Number of labels of the classifier. If 1, the CrossEncoder is a regression model that outputs a continous score 0...1. If > 1, it output several scores that can be soft-maxed to get probability scores for the different classes.\n",
        "        :param max_length: Max length for input sequences. Longer sequences will be truncated. If None, max length of the model will be used\n",
        "        :param device: Device that should be used for the model. If None, it will use CUDA if available.\n",
        "        :param tokenizer_args: Arguments passed to AutoTokenizer\n",
        "        :param default_activation_function: Callable (like nn.Sigmoid) about the default activation function that should be used on-top of model.predict(). If None. nn.Sigmoid() will be used if num_labels=1, else nn.Identity()\n",
        "        \"\"\"\n",
        "\n",
        "        self.config = AutoConfig.from_pretrained(model_name)\n",
        "        classifier_trained = True\n",
        "        if self.config.architectures is not None:\n",
        "            classifier_trained = any([arch.endswith('ForSequenceClassification') for arch in self.config.architectures])\n",
        "\n",
        "        if num_labels is None and not classifier_trained:\n",
        "            num_labels = 1\n",
        "\n",
        "        if num_labels is not None:\n",
        "            self.config.num_labels = num_labels\n",
        "\n",
        "        self.model = AutoModelForSequenceClassification.from_pretrained(model_name, config=self.config, ignore_mismatched_sizes = True) # ignore_mismatched_sizes = True for transfer learning. first post_training, then using it for binary classification\n",
        "        self.tokenizer = AutoTokenizer.from_pretrained(model_name, **tokenizer_args)\n",
        "        self.max_length = max_length\n",
        "\n",
        "        if device is None:\n",
        "            device = \"cuda\" if torch.cuda.is_available() else \"cpu\"\n",
        "            logger.info(\"Use pytorch device: {}\".format(device))\n",
        "\n",
        "        self._target_device = torch.device(device)\n",
        "\n",
        "        if default_activation_function is not None:\n",
        "            self.default_activation_function = default_activation_function\n",
        "            try:\n",
        "                self.config.sbert_ce_default_activation_function = util.fullname(self.default_activation_function)\n",
        "            except Exception as e:\n",
        "                logger.warning(\"Was not able to update config about the default_activation_function: {}\".format(str(e)) )\n",
        "        elif hasattr(self.config, 'sbert_ce_default_activation_function') and self.config.sbert_ce_default_activation_function is not None:\n",
        "            self.default_activation_function = util.import_from_string(self.config.sbert_ce_default_activation_function)()\n",
        "        else:\n",
        "            self.default_activation_function = nn.Sigmoid() if self.config.num_labels == 1 else nn.Identity()\n",
        "\n",
        "    def smart_batching_collate(self, batch):\n",
        "        texts = [[] for _ in range(len(batch[0].texts))]\n",
        "        labels = []\n",
        "\n",
        "        for example in batch:\n",
        "            for idx, text in enumerate(example.texts):\n",
        "                texts[idx].append(text.strip())\n",
        "\n",
        "            labels.append(example.label)\n",
        "\n",
        "        tokenized = self.tokenizer(*texts, padding=True, truncation='longest_first', return_tensors=\"pt\", max_length=self.max_length)\n",
        "        labels = torch.tensor(labels, dtype=torch.float if self.config.num_labels == 1 else torch.long).to(self._target_device)\n",
        "\n",
        "        for name in tokenized:\n",
        "            tokenized[name] = tokenized[name].to(self._target_device)\n",
        "\n",
        "        return tokenized, labels\n",
        "\n",
        "    def smart_batching_collate_text_only(self, batch):\n",
        "        texts = [[] for _ in range(len(batch[0]))]\n",
        "\n",
        "        for example in batch:\n",
        "            for idx, text in enumerate(example):\n",
        "                texts[idx].append(text.strip())\n",
        "\n",
        "        tokenized = self.tokenizer(*texts, padding=True, truncation='longest_first', return_tensors=\"pt\", max_length=self.max_length)\n",
        "\n",
        "        for name in tokenized:\n",
        "            tokenized[name] = tokenized[name].to(self._target_device)\n",
        "\n",
        "        return tokenized\n",
        "\n",
        "    def fit(self,\n",
        "            train_dataloader: DataLoader,\n",
        "            evaluator: SentenceEvaluator = None,\n",
        "            epochs: int = 1,\n",
        "            loss_fct = None,\n",
        "            activation_fct = nn.Identity(),\n",
        "            scheduler: str = 'WarmupLinear',\n",
        "            warmup_steps: int = 10000,\n",
        "            accumulation_steps: int = 1,\n",
        "            optimizer_class: Type[Optimizer] = transformers.AdamW,\n",
        "            optimizer_params: Dict[str, object] = {'lr': 2e-5},\n",
        "            weight_decay: float = 0.01,\n",
        "            evaluation_steps: int = 0,\n",
        "            output_path: str = None,\n",
        "            save_best_model: bool = True,\n",
        "            max_grad_norm: float = 1,\n",
        "            use_amp: bool = False,\n",
        "            callback: Callable[[float, int, int], None] = None,\n",
        "            ):\n",
        "        \"\"\"\n",
        "        Train the model with the given training objective\n",
        "        Each training objective is sampled in turn for one batch.\n",
        "        We sample only as many batches from each objective as there are in the smallest one\n",
        "        to make sure of equal training with each dataset.\n",
        "\n",
        "        :param train_dataloader: DataLoader with training InputExamples\n",
        "        :param evaluator: An evaluator (sentence_transformers.evaluation) evaluates the model performance during training on held-out dev data. It is used to determine the best model that is saved to disc.\n",
        "        :param epochs: Number of epochs for training\n",
        "        :param loss_fct: Which loss function to use for training. If None, will use nn.BCEWithLogitsLoss() if self.config.num_labels == 1 else nn.CrossEntropyLoss()\n",
        "        :param activation_fct: Activation function applied on top of logits output of model.\n",
        "        :param scheduler: Learning rate scheduler. Available schedulers: constantlr, warmupconstant, warmuplinear, warmupcosine, warmupcosinewithhardrestarts\n",
        "        :param warmup_steps: Behavior depends on the scheduler. For WarmupLinear (default), the learning rate is increased from o up to the maximal learning rate. After these many training steps, the learning rate is decreased linearly back to zero.\n",
        "        :param accumulation_steps: Number of steps to accumulate before performing a backward pass\n",
        "        :param optimizer_class: Optimizer\n",
        "        :param optimizer_params: Optimizer parameters\n",
        "        :param weight_decay: Weight decay for model parameters\n",
        "        :param evaluation_steps: If > 0, evaluate the model using evaluator after each number of training steps\n",
        "        :param output_path: Storage path for the model and evaluation files\n",
        "        :param save_best_model: If true, the best model (according to evaluator) is stored at output_path\n",
        "        :param max_grad_norm: Used for gradient normalization.\n",
        "        :param use_amp: Use Automatic Mixed Precision (AMP). Only for Pytorch >= 1.6.0\n",
        "        :param callback: Callback function that is invoked after each evaluation.\n",
        "                It must accept the following three parameters in this order:\n",
        "                `score`, `epoch`, `steps`\n",
        "        \"\"\"\n",
        "        train_dataloader.collate_fn = self.smart_batching_collate\n",
        "\n",
        "        if use_amp:\n",
        "            from torch.cuda.amp import autocast\n",
        "            scaler = torch.cuda.amp.GradScaler()\n",
        "\n",
        "        self.model.to(self._target_device)\n",
        "\n",
        "        if output_path is not None:\n",
        "            os.makedirs(output_path, exist_ok=True)\n",
        "\n",
        "        self.best_score = -9999999\n",
        "        num_train_steps = int(len(train_dataloader) * epochs)\n",
        "\n",
        "        # Prepare optimizers\n",
        "        param_optimizer = list(self.model.named_parameters())\n",
        "\n",
        "        no_decay = ['bias', 'LayerNorm.bias', 'LayerNorm.weight']\n",
        "        optimizer_grouped_parameters = [\n",
        "            {'params': [p for n, p in param_optimizer if not any(nd in n for nd in no_decay)], 'weight_decay': weight_decay},\n",
        "            {'params': [p for n, p in param_optimizer if any(nd in n for nd in no_decay)], 'weight_decay': 0.0}\n",
        "        ]\n",
        "\n",
        "        optimizer = optimizer_class(optimizer_grouped_parameters, **optimizer_params)\n",
        "\n",
        "        if isinstance(scheduler, str):\n",
        "            scheduler = SentenceTransformer._get_scheduler(optimizer, scheduler=scheduler, warmup_steps=warmup_steps, t_total=num_train_steps)\n",
        "\n",
        "        if loss_fct is None:\n",
        "            loss_fct = nn.BCEWithLogitsLoss() if self.config.num_labels == 1 else nn.CrossEntropyLoss()\n",
        "\n",
        "\n",
        "        skip_scheduler = False\n",
        "        for epoch in tqdm.trange(epochs, desc=\"Epoch\"):\n",
        "            training_steps = 0\n",
        "            self.model.zero_grad()\n",
        "            self.model.train()\n",
        "            for i, (features, labels) in tqdm.tqdm(enumerate(train_dataloader), total=(len(train_dataloader) // accumulation_steps), desc=\"Iteration\", smoothing=0.05):\n",
        "                if use_amp:\n",
        "                    with autocast():\n",
        "                        model_predictions = self.model(**features, return_dict=True)\n",
        "                        logits = activation_fct(model_predictions.logits)\n",
        "                        if self.config.num_labels == 1:\n",
        "                            logits = logits.view(-1)\n",
        "                        loss_value = loss_fct(logits, labels)\n",
        "                        loss_value /= accumulation_steps\n",
        "\n",
        "                    scale_before_step = scaler.get_scale()\n",
        "                    scaler.scale(loss_value).backward()\n",
        "                    if (i + 1) % accumulation_steps == 0:\n",
        "                        scaler.unscale_(optimizer)\n",
        "                        torch.nn.utils.clip_grad_norm_(self.model.parameters(), max_grad_norm)\n",
        "                        scaler.step(optimizer)\n",
        "                        scaler.update()\n",
        "                        optimizer.zero_grad()\n",
        "\n",
        "                    skip_scheduler = scaler.get_scale() != scale_before_step\n",
        "                else:\n",
        "                    model_predictions = self.model(**features, return_dict=True)\n",
        "                    logits = activation_fct(model_predictions.logits)\n",
        "                    if self.config.num_labels == 1:\n",
        "                        logits = logits.view(-1)\n",
        "                    loss_value = loss_fct(logits, labels)\n",
        "                    loss_value /= accumulation_steps\n",
        "                    loss_value.backward()\n",
        "                    if (i + 1) % accumulation_steps == 0:\n",
        "                        torch.nn.utils.clip_grad_norm_(self.model.parameters(), max_grad_norm)\n",
        "                        optimizer.step()\n",
        "                        optimizer.zero_grad()\n",
        "\n",
        "                if not skip_scheduler and (i + 1) % accumulation_steps == 0:\n",
        "                    scheduler.step()\n",
        "\n",
        "                training_steps += 1\n",
        "\n",
        "                if evaluator is not None and evaluation_steps > 0 and training_steps % evaluation_steps == 0:\n",
        "                    self._eval_during_training(evaluator, output_path, save_best_model, epoch, training_steps, callback)\n",
        "\n",
        "                    self.model.zero_grad()\n",
        "                    self.model.train()\n",
        "\n",
        "            if evaluator is not None:\n",
        "                self._eval_during_training(evaluator, output_path, save_best_model, epoch, -1, callback)\n",
        "\n",
        "\n",
        "\n",
        "    def predict(self, sentences: List[List[str]],\n",
        "               batch_size: int = 32,\n",
        "               show_progress_bar: bool = None,\n",
        "               num_workers: int = 0,\n",
        "               activation_fct = None,\n",
        "               apply_softmax = False,\n",
        "               convert_to_numpy: bool = True,\n",
        "               convert_to_tensor: bool = False\n",
        "               ):\n",
        "        \"\"\"\n",
        "        Performs predicts with the CrossEncoder on the given sentence pairs.\n",
        "\n",
        "        :param sentences: A list of sentence pairs [[Sent1, Sent2], [Sent3, Sent4]]\n",
        "        :param batch_size: Batch size for encoding\n",
        "        :param show_progress_bar: Output progress bar\n",
        "        :param num_workers: Number of workers for tokenization\n",
        "        :param activation_fct: Activation function applied on the logits output of the CrossEncoder. If None, nn.Sigmoid() will be used if num_labels=1, else nn.Identity\n",
        "        :param convert_to_numpy: Convert the output to a numpy matrix.\n",
        "        :param apply_softmax: If there are more than 2 dimensions and apply_softmax=True, applies softmax on the logits output\n",
        "        :param convert_to_tensor:  Conver the output to a tensor.\n",
        "        :return: Predictions for the passed sentence pairs\n",
        "        \"\"\"\n",
        "        input_was_string = False\n",
        "        if isinstance(sentences[0], str):  # Cast an individual sentence to a list with length 1\n",
        "            sentences = [sentences]\n",
        "            input_was_string = True\n",
        "\n",
        "        inp_dataloader = DataLoader(sentences, batch_size=batch_size, collate_fn=self.smart_batching_collate_text_only, num_workers=num_workers, shuffle=False)\n",
        "\n",
        "        if show_progress_bar is None:\n",
        "            show_progress_bar = (logger.getEffectiveLevel() == logging.INFO or logger.getEffectiveLevel() == logging.DEBUG)\n",
        "\n",
        "        iterator = inp_dataloader\n",
        "        if show_progress_bar:\n",
        "            iterator = tqdm.tqdm(inp_dataloader, desc=\"Batches\")\n",
        "\n",
        "        if activation_fct is None:\n",
        "            activation_fct = self.default_activation_function\n",
        "\n",
        "        pred_scores = []\n",
        "        self.model.eval()\n",
        "        self.model.to(self._target_device)\n",
        "        with torch.no_grad():\n",
        "            for features in iterator:\n",
        "                model_predictions = self.model(**features, return_dict=True)\n",
        "                logits = activation_fct(model_predictions.logits)\n",
        "\n",
        "                if apply_softmax and len(logits[0]) > 1:\n",
        "                    logits = torch.nn.functional.softmax(logits, dim=1)\n",
        "                pred_scores.extend(logits)\n",
        "\n",
        "        if self.config.num_labels == 1:\n",
        "            pred_scores = [score[0] for score in pred_scores]\n",
        "\n",
        "        if convert_to_tensor:\n",
        "            pred_scores = torch.stack(pred_scores)\n",
        "        elif convert_to_numpy:\n",
        "            pred_scores = np.asarray([score.cpu().detach().numpy() for score in pred_scores])\n",
        "\n",
        "        if input_was_string:\n",
        "            pred_scores = pred_scores[0]\n",
        "\n",
        "        return pred_scores\n",
        "\n",
        "\n",
        "    def _eval_during_training(self, evaluator, output_path, save_best_model, epoch, steps, callback):\n",
        "        \"\"\"Runs evaluation during the training\"\"\"\n",
        "        if evaluator is not None:\n",
        "            score = evaluator(self, output_path=output_path, epoch=epoch, steps=steps)\n",
        "            if callback is not None:\n",
        "                callback(score, epoch, steps)\n",
        "            if score > self.best_score:\n",
        "                self.best_score = score\n",
        "                if save_best_model:\n",
        "                    self.save(output_path)\n",
        "\n",
        "    def save(self, path):\n",
        "        \"\"\"\n",
        "        Saves all model and tokenizer to path\n",
        "        \"\"\"\n",
        "        if path is None:\n",
        "            return\n",
        "\n",
        "        logger.info(\"Save model to {}\".format(path))\n",
        "        self.model.save_pretrained(path)\n",
        "        self.tokenizer.save_pretrained(path)\n",
        "\n",
        "    def save_pretrained(self, path):\n",
        "        \"\"\"\n",
        "        Same function as save\n",
        "        \"\"\"\n",
        "        return self.save(path)"
      ],
      "metadata": {
        "id": "qVtyP9_yqPRj"
      },
      "execution_count": null,
      "outputs": []
    },
    {
      "cell_type": "markdown",
      "source": [
        "# Evaluator Class"
      ],
      "metadata": {
        "id": "0ZvgdJx_aUYL"
      }
    },
    {
      "cell_type": "code",
      "source": [
        "import numpy as np\n",
        "import os\n",
        "import csv\n",
        "import pytrec_eval\n",
        "import tqdm\n",
        "from sentence_transformers import LoggingHandler, util\n",
        "class CERerankingEvaluator:\n",
        "    \"\"\"\n",
        "    This class evaluates a CrossEncoder model for the task of re-ranking.\n",
        "\n",
        "    Given a query and a list of documents, it computes the score [query, doc_i] for all possible\n",
        "    documents and sorts them in decreasing order. Then, ndcg@10 is compute to measure the quality of the ranking.\n",
        "\n",
        "    :param samples: Must be a list and each element is of the form: {'query': '', 'positive': [], 'negative': []}. Query is the search query,\n",
        "     positive is a list of positive (relevant) documents, negative is a list of negative (irrelevant) documents.\n",
        "    \"\"\"\n",
        "    def __init__(self, samples, all_metrics: set = {\"recall.1\"}, name: str = '', write_csv: bool = True, show_progress_bar: bool = False):\n",
        "        self.samples = samples\n",
        "        self.name = name\n",
        "        self.all_metrics = all_metrics\n",
        "\n",
        "        if isinstance(self.samples, dict):\n",
        "            self.samples = list(self.samples.values())\n",
        "\n",
        "        self.csv_file = \"CERerankingEvaluator\" + (\"_\" + name if name else '') + \"_results.csv\"\n",
        "        self.csv_headers = [\"epoch\", \"steps\"] + list(all_metrics)\n",
        "        self.write_csv = write_csv\n",
        "        self.mean_metrics = {}\n",
        "        self.show_progress_bar = show_progress_bar\n",
        "    def __call__(self, model, output_path: str = None, epoch: int = -1, steps: int = -1) -> float:\n",
        "        mean_ndcg = 0\n",
        "       \n",
        "        if epoch != -1:\n",
        "            if steps == -1:\n",
        "                out_txt = \" after epoch {}:\".format(epoch)\n",
        "            else:\n",
        "                out_txt = \" in epoch {} after {} steps:\".format(epoch, steps)\n",
        "        else:\n",
        "            out_txt = \":\"\n",
        "\n",
        "        logger.info(\"CERerankingEvaluator: Evaluating the model on \" + self.name + \" dataset\" + out_txt)\n",
        "\n",
        "        all_ndcg_scores = []\n",
        "        num_queries = 0\n",
        "        num_positives = []\n",
        "        num_negatives = []\n",
        "        run = {}\n",
        "        qrel = {}\n",
        "        print(\"len: self.samples: \" + str(len(self.samples)))\n",
        "        try:\n",
        "            for instance in tqdm.tqdm(self.samples):\n",
        "                # print(\"instance: \", instance)\n",
        "                qid = instance['qid']\n",
        "                query = instance['query']\n",
        "                positive = list(instance['positive'])\n",
        "                negative = list(instance['negative'])\n",
        "                positive_pids = list(instance['positive_ids'])\n",
        "                negative_pids = list(instance['negative_ids'])\n",
        "                docs =  negative + positive\n",
        "                docs_ids = negative_pids + positive_pids\n",
        "                is_relevant = [False]*len(negative) +  [True]*len(positive) \n",
        "\n",
        "                qrel[qid] = {}\n",
        "                run[qid] = {}\n",
        "                for pid in positive_pids:\n",
        "                    qrel[qid][pid] = 1\n",
        "\n",
        "                if len(positive) == 0 or len(negative) == 0:\n",
        "                    continue\n",
        "\n",
        "                num_queries += 1\n",
        "                num_positives.append(len(positive))\n",
        "                num_negatives.append(len(negative))\n",
        "\n",
        "                model_input = [[query, doc] for doc in docs]\n",
        "                if model.config.num_labels > 1: #Cross-Encoder that predict more than 1 score, we use the last and apply softmax\n",
        "                    pred_scores = model.predict(model_input, apply_softmax=True, batch_size=16, show_progress_bar = self.show_progress_bar)[:, 1].tolist()\n",
        "                else:\n",
        "                    pred_scores = model.predict(model_input, batch_size=16, show_progress_bar = self.show_progress_bar).tolist()\n",
        "                for pred_score, did in zip(list(pred_scores), docs_ids):\n",
        "                    line = \"{query_id} Q0 {document_id} {rank} {score} STANDARD\\n\".format(query_id=qid,\n",
        "                                                                                          document_id=did,\n",
        "                                                                                          rank=\"-10\",#rank,\n",
        "                                                                                          score=str(pred_score))\n",
        "                    run[qid][did] = float(pred_score)\n",
        "\n",
        "            evaluator = pytrec_eval.RelevanceEvaluator(qrel, self.all_metrics)\n",
        "            scores = evaluator.evaluate(run)\n",
        "            self.mean_metrics = {}\n",
        "            metrics_string = \"\"\n",
        "            for metric in list(self.all_metrics):\n",
        "                self.mean_metrics[metric] = np.mean([ele[metric.replace(\".\",\"_\")] for ele in scores.values()])\n",
        "                metrics_string = metrics_string +  \"{}: {} | \".format(metric, self.mean_metrics[metric])\n",
        "            print(\"metrics eval: \", metrics_string)\n",
        "            logger.info(\"Queries: {} \\t Positives: Min {:.1f}, Mean {:.1f}, Max {:.1f} \\t Negatives: Min {:.1f}, Mean {:.1f}, Max {:.1f}\".format(num_queries, np.min(num_positives), np.mean(num_positives), np.max(num_positives), np.min(num_negatives), np.mean(num_negatives), np.max(num_negatives)))\n",
        "        except Exception as e:\n",
        "            logger.error(\"error: \", e)\n",
        "        if output_path is not None and self.write_csv:\n",
        "            csv_path = os.path.join(output_path, self.csv_file)\n",
        "            output_file_exists = os.path.isfile(csv_path)\n",
        "            with open(csv_path, mode=\"a\" if output_file_exists else 'w', encoding=\"utf-8\") as f: # early stopping can be done by modifying this part. You can read this csv file. Then you need to count: best_step - last step + 1. if it is >earlystopping. then, you can just do sys.exit(1) to kill the process :)\n",
        "                writer = csv.writer(f)\n",
        "                if not output_file_exists:\n",
        "                    writer.writerow(self.csv_headers)\n",
        "                writer.writerow([epoch, steps, sum(self.mean_metrics.values())])\n",
        "        return sum(self.mean_metrics.values())\n"
      ],
      "metadata": {
        "id": "KBRFzC_3ttsA"
      },
      "execution_count": null,
      "outputs": []
    },
    {
      "cell_type": "markdown",
      "source": [
        "#Data"
      ],
      "metadata": {
        "id": "7bRO2ifbamIr"
      }
    },
    {
      "cell_type": "markdown",
      "source": [
        "## utils\n"
      ],
      "metadata": {
        "id": "76iDBJg_Ot9m"
      }
    },
    {
      "cell_type": "markdown",
      "source": [
        "### read collections"
      ],
      "metadata": {
        "id": "vFjBKFvtnaNG"
      }
    },
    {
      "cell_type": "code",
      "source": [
        "def read_collection(f_path):\n",
        "  corpus = {}\n",
        "  with open(f_path, \"r\") as fp:\n",
        "    for line in tqdm.tqdm(fp, desc=\"reading {}\".format(f_path)):\n",
        "      did, dtext = line.strip().split(\"\\t\")\n",
        "      corpus[did] = dtext\n",
        "  return corpus"
      ],
      "metadata": {
        "id": "clfEPg9TnbVY"
      },
      "execution_count": null,
      "outputs": []
    },
    {
      "cell_type": "markdown",
      "source": [
        "## Initializing variables\n"
      ],
      "metadata": {
        "id": "L9Ic0w1QbgDr"
      }
    },
    {
      "cell_type": "code",
      "source": [
        "RUN_ON_COLAB = True #True #False\n",
        "base_write_path = \"\"\n",
        "truncation_mode = None\n",
        "if RUN_ON_COLAB:\n",
        "    num_epochs = 5\n",
        "    qlen = 70 # tokens\n",
        "    dlen = 350 # tokens\n",
        "    pos_neg_ratio = 4\n",
        "    max_train_samples = 0 \n",
        "    valid_max_queries = 80\n",
        "    valid_max_negatives_per_query = 1000\n",
        "    model_name = 'microsoft/MiniLM-L12-H384-uncased'\n",
        "    queries_path = base_path + \"queries.tsv\"\n",
        "    corpus_path = base_path + \"collection_c.tsv\"\n",
        "    triples_train_path = base_path + \"train_c_qidpidtriples.tsv\"\n",
        "    triples_valid_path = base_path +  \"valid_c_qidpidtriples.tsv\"\n",
        "    model_save_path = base_path + 'finetuned_CEs/{}_ChatGPTRetrievalQA_training_cross-encoder-'.format(model_name.replace(\"/\", \"-\"))+'-'+datetime.now().strftime(\"%Y-%m-%d_%H-%M-%S\")\n",
        "    # training parameters\n",
        "    model_max_length = 512\n",
        "    batch_size = 32\n",
        "    accumulation_steps = 1\n",
        "    evaluation_steps = 5000\n",
        "    print(\"model_name {} | model_max_length {} | batch_size {} | accumulation_steps {} \".format(model_name, model_max_length, batch_size, accumulation_steps))"
      ],
      "metadata": {
        "id": "WIsfkrozKNNy"
      },
      "execution_count": null,
      "outputs": []
    },
    {
      "cell_type": "markdown",
      "source": [
        "## Reading data"
      ],
      "metadata": {
        "id": "c0vyoTd5cJ1H"
      }
    },
    {
      "cell_type": "code",
      "source": [
        "queries = read_collection(queries_path)\n",
        "corpus = read_collection(corpus_path)"
      ],
      "metadata": {
        "id": "gykYZ2Q8cLYB"
      },
      "execution_count": null,
      "outputs": []
    },
    {
      "cell_type": "markdown",
      "source": [
        "### reading corpus and queries: utils"
      ],
      "metadata": {
        "id": "wp6R4T60cj0B"
      }
    },
    {
      "cell_type": "code",
      "source": [
        "from transformers import AutoTokenizer\n",
        "tokenizer = AutoTokenizer.from_pretrained(model_name, truncation_side = \"right\") # right is default btw."
      ],
      "metadata": {
        "id": "Ceef-wTHdaH7"
      },
      "execution_count": null,
      "outputs": []
    },
    {
      "cell_type": "code",
      "source": [
        "def get_truncated_dict(id_content_dict, tokenizer, max_length):\n",
        "  for id_, content, in tqdm.tqdm(id_content_dict.items()):\n",
        "    truncated_content = tokenizer.batch_decode(tokenizer(content, padding=True, truncation=True, return_tensors=\"pt\", max_length=max_length)['input_ids'], skip_special_tokens=True)[0]\n",
        "    id_content_dict[id_] = truncated_content\n",
        "  return id_content_dict"
      ],
      "metadata": {
        "id": "k_AD_IY7clkc"
      },
      "execution_count": null,
      "outputs": []
    },
    {
      "cell_type": "markdown",
      "source": [
        "### reading corpus and queries: main"
      ],
      "metadata": {
        "id": "H3nwW34Re83U"
      }
    },
    {
      "cell_type": "code",
      "source": [
        "queries = get_truncated_dict(queries, tokenizer, qlen)\n",
        "corpus = get_truncated_dict(corpus,tokenizer, dlen)"
      ],
      "metadata": {
        "id": "3znqnLqRdG7r"
      },
      "execution_count": null,
      "outputs": []
    },
    {
      "cell_type": "markdown",
      "source": [
        "### reading triples: utils"
      ],
      "metadata": {
        "id": "8sIexSoNe_Wc"
      }
    },
    {
      "cell_type": "markdown",
      "source": [
        "#### train set"
      ],
      "metadata": {
        "id": "_Y8hmKA3g_XU"
      }
    },
    {
      "cell_type": "code",
      "source": [
        "def read_triples_train(f_path, queries, corpus, max_instances = 0 , pos_neg_ratio = 4):\n",
        "  \"\"\"\n",
        "    :param max_instances: 0 means read full instances\n",
        "  \"\"\"\n",
        "  samples = []\n",
        "  cnt = 0\n",
        "  with open(f_path, \"r\") as fp:\n",
        "    for line in tqdm.tqdm(fp, desc=\"reading {}\".format(f_path)):\n",
        "      qid, pos_id, neg_id = line.strip().split(\"\\t\")\n",
        "      query = queries[qid]\n",
        "      if (cnt % (pos_neg_ratio+1)) == 0:\n",
        "        passage = corpus[pos_id]\n",
        "        label = 1\n",
        "      else:\n",
        "        passage = corpus[neg_id]\n",
        "        label = 0\n",
        "      samples.append(InputExample(texts=[query, passage], label=label))\n",
        "      cnt += 1\n",
        "      if max_instances != 0 and  cnt >= max_instances:\n",
        "        break\n",
        "  return samples"
      ],
      "metadata": {
        "id": "KrroVJO2fQGu"
      },
      "execution_count": null,
      "outputs": []
    },
    {
      "cell_type": "markdown",
      "source": [
        "#### validation set"
      ],
      "metadata": {
        "id": "jyYly2EkhBqn"
      }
    },
    {
      "cell_type": "code",
      "source": [
        "def read_triples_validation(f_path, queries, corpus, max_queries = 500, max_negatives_per_query = 200): # 200 negative per queries and 500 queries are good enough for evaluating during training!\n",
        "  \"\"\"\n",
        "    :param max_instances: 0 means read full instances\n",
        "  \"\"\"\n",
        "  samples = {}\n",
        "  with open(f_path, \"r\") as fp:\n",
        "    for line in tqdm.tqdm(fp, desc=\"reading {}\".format(f_path)):\n",
        "      qid, pos_id, neg_id = line.strip().split(\"\\t\")\n",
        "      query = queries[qid]\n",
        "      if qid not in samples and len(samples) < max_queries:\n",
        "        samples[qid] = {'qid': qid , 'query': query, 'positive': list(), 'negative': list(), \"positive_ids\": list(), \"negative_ids\": list()}\n",
        "      if qid in samples:\n",
        "        if pos_id not in samples[qid]['positive_ids']:\n",
        "            samples[qid]['positive'].append(corpus[pos_id])\n",
        "            samples[qid]['positive_ids'].append(pos_id)\n",
        "        if len(samples[qid]['negative']) < max_negatives_per_query:\n",
        "            samples[qid]['negative'].append(corpus[neg_id])\n",
        "            samples[qid]['negative_ids'].append(neg_id)\n",
        "  return samples"
      ],
      "metadata": {
        "id": "VAw2TLWKhCjj"
      },
      "execution_count": null,
      "outputs": []
    },
    {
      "cell_type": "markdown",
      "source": [
        "### reading triples: main"
      ],
      "metadata": {
        "id": "6QdqcwfkfDu1"
      }
    },
    {
      "cell_type": "markdown",
      "source": [
        "#### train set"
      ],
      "metadata": {
        "id": "nv9xw50vkLvR"
      }
    },
    {
      "cell_type": "code",
      "source": [
        "train_samples = read_triples_train(triples_train_path, queries, corpus, max_train_samples, pos_neg_ratio)"
      ],
      "metadata": {
        "id": "b506d9pAhHxP"
      },
      "execution_count": null,
      "outputs": []
    },
    {
      "cell_type": "markdown",
      "source": [
        "#### validation set"
      ],
      "metadata": {
        "id": "3p2dgj2lkOD-"
      }
    },
    {
      "cell_type": "code",
      "source": [
        "dev_samples = read_triples_validation(triples_valid_path, queries, corpus, valid_max_queries, valid_max_negatives_per_query)"
      ],
      "metadata": {
        "id": "ogfUwBMQkPUk"
      },
      "execution_count": null,
      "outputs": []
    },
    {
      "cell_type": "markdown",
      "source": [
        "# Training"
      ],
      "metadata": {
        "id": "P0dVUa47kJ6a"
      }
    },
    {
      "cell_type": "markdown",
      "source": [
        "## Training parameters explaination"
      ],
      "metadata": {
        "id": "dW3S8cutoEhx"
      }
    },
    {
      "cell_type": "markdown",
      "source": [
        "train-c lines: 18,473,122\n",
        "18473122/32 ~= 577285 steps\n",
        "if I evaluate per 5k steps, then the evaluation will be done for ~=115 times!\n",
        "so it makes sense to do early stopping if I do not see any improvements for 30 times of evaluation (30*5k=115k steps of training without improvement :) but we don't do early stopping yet at least in this version of code:)"
      ],
      "metadata": {
        "id": "xg54SL0CogsA"
      }
    },
    {
      "cell_type": "markdown",
      "source": [
        "## Train"
      ],
      "metadata": {
        "id": "V8_Kbj50uFf4"
      }
    },
    {
      "cell_type": "code",
      "source": [
        "\"\"\"# Training\"\"\"\n",
        "model = CrossEncoder(model_name, num_labels=1, max_length=model_max_length)\n",
        "model.config.gradient_checkpointing = False#True # # we can do gradient checkpointing for all so we use less gpu memory and can have parallel run!\n",
        "\"\"\"## Fit\"\"\"\n",
        "# MAP@1000\tNDCG@10\tRecall@10\tRecall@100\tRecall@1000\n",
        "train_dataloader = DataLoader(train_samples, shuffle=True, batch_size=batch_size)\n",
        "evaluator = CERerankingEvaluator(dev_samples, name='train-eval',  all_metrics=\n",
        "                                 {\"ndcg_cut.10\", \"map_cut.1000\", \"recall.10\"}\n",
        "                                 )#https://github.com/UKPLab/sentence-transformers/blob/master/sentence_transformers/cross_encoder/evaluation/CERerankingEvaluator.py\n",
        "warmup_steps = 5000\n",
        "logging.info(\"Warmup-steps: {}\".format(warmup_steps))\n",
        "model.fit(train_dataloader=train_dataloader,\n",
        "          evaluator=evaluator,\n",
        "          epochs=num_epochs,\n",
        "          evaluation_steps= evaluation_steps,\n",
        "          warmup_steps=warmup_steps,\n",
        "          output_path=model_save_path,\n",
        "          accumulation_steps = accumulation_steps,#32, #batch 1, accumulation 32, real batch will be 32 then:)\n",
        "          use_amp=True,\n",
        "          optimizer_params = {'lr': 2e-5}, # sentence bert config!\n",
        "          weight_decay = 0.01 # they set wd as 0 for adam. for adamw which is the correct impl of adam, wd is 0.01!\n",
        "          ) \n",
        "model.save(model_save_path+'-latest')"
      ],
      "metadata": {
        "id": "iK-ulumN1vyZ"
      },
      "execution_count": null,
      "outputs": []
    }
  ]
}