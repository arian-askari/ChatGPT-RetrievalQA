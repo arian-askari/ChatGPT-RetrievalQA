{
  "nbformat": 4,
  "nbformat_minor": 0,
  "metadata": {
    "colab": {
      "provenance": []
    },
    "kernelspec": {
      "name": "python3",
      "display_name": "Python 3"
    },
    "language_info": {
      "name": "python"
    }
  },
  "cells": [
    {
      "cell_type": "markdown",
      "source": [
        "## Install libraries and load utils"
      ],
      "metadata": {
        "id": "mwm0_Rh5MJ-d"
      }
    },
    {
      "cell_type": "code",
      "source": [
        "!pip install pytrec_eval\n",
        "!pip install sentence_transformers\n",
        "import pytrec_eval\n",
        "import json\n",
        "import tqdm\n",
        "import numpy as np\n",
        "from google.colab import drive\n",
        "drive.mount('/content/gdrive')\n",
        "COLAB_RUN = True\n",
        "if COLAB_RUN:\n",
        "  base_path = \"./gdrive/MyDrive/ChatGPT-RetrievalQA/\"\n",
        "else:\n",
        "  base_path = \"./\""
      ],
      "metadata": {
        "colab": {
          "base_uri": "https://localhost:8080/"
        },
        "id": "ZxrIi8BjMFlX",
        "outputId": "139b3538-86fc-4b24-93e0-17ef9148b965"
      },
      "execution_count": null,
      "outputs": [
        {
          "output_type": "stream",
          "name": "stdout",
          "text": [
            "Looking in indexes: https://pypi.org/simple, https://us-python.pkg.dev/colab-wheels/public/simple/\n",
            "Requirement already satisfied: sentence_transformers in /usr/local/lib/python3.8/dist-packages (2.2.2)\n",
            "Requirement already satisfied: torchvision in /usr/local/lib/python3.8/dist-packages (from sentence_transformers) (0.14.1+cu116)\n",
            "Requirement already satisfied: tqdm in /usr/local/lib/python3.8/dist-packages (from sentence_transformers) (4.64.1)\n",
            "Requirement already satisfied: scipy in /usr/local/lib/python3.8/dist-packages (from sentence_transformers) (1.7.3)\n",
            "Requirement already satisfied: torch>=1.6.0 in /usr/local/lib/python3.8/dist-packages (from sentence_transformers) (1.13.1+cu116)\n",
            "Requirement already satisfied: numpy in /usr/local/lib/python3.8/dist-packages (from sentence_transformers) (1.21.6)\n",
            "Requirement already satisfied: sentencepiece in /usr/local/lib/python3.8/dist-packages (from sentence_transformers) (0.1.97)\n",
            "Requirement already satisfied: nltk in /usr/local/lib/python3.8/dist-packages (from sentence_transformers) (3.7)\n",
            "Requirement already satisfied: huggingface-hub>=0.4.0 in /usr/local/lib/python3.8/dist-packages (from sentence_transformers) (0.12.0)\n",
            "Requirement already satisfied: transformers<5.0.0,>=4.6.0 in /usr/local/lib/python3.8/dist-packages (from sentence_transformers) (4.26.1)\n",
            "Requirement already satisfied: scikit-learn in /usr/local/lib/python3.8/dist-packages (from sentence_transformers) (1.0.2)\n",
            "Requirement already satisfied: filelock in /usr/local/lib/python3.8/dist-packages (from huggingface-hub>=0.4.0->sentence_transformers) (3.9.0)\n",
            "Requirement already satisfied: packaging>=20.9 in /usr/local/lib/python3.8/dist-packages (from huggingface-hub>=0.4.0->sentence_transformers) (23.0)\n",
            "Requirement already satisfied: pyyaml>=5.1 in /usr/local/lib/python3.8/dist-packages (from huggingface-hub>=0.4.0->sentence_transformers) (6.0)\n",
            "Requirement already satisfied: requests in /usr/local/lib/python3.8/dist-packages (from huggingface-hub>=0.4.0->sentence_transformers) (2.25.1)\n",
            "Requirement already satisfied: typing-extensions>=3.7.4.3 in /usr/local/lib/python3.8/dist-packages (from huggingface-hub>=0.4.0->sentence_transformers) (4.4.0)\n",
            "Requirement already satisfied: regex!=2019.12.17 in /usr/local/lib/python3.8/dist-packages (from transformers<5.0.0,>=4.6.0->sentence_transformers) (2022.6.2)\n",
            "Requirement already satisfied: tokenizers!=0.11.3,<0.14,>=0.11.1 in /usr/local/lib/python3.8/dist-packages (from transformers<5.0.0,>=4.6.0->sentence_transformers) (0.13.2)\n",
            "Requirement already satisfied: joblib in /usr/local/lib/python3.8/dist-packages (from nltk->sentence_transformers) (1.2.0)\n",
            "Requirement already satisfied: click in /usr/local/lib/python3.8/dist-packages (from nltk->sentence_transformers) (7.1.2)\n",
            "Requirement already satisfied: threadpoolctl>=2.0.0 in /usr/local/lib/python3.8/dist-packages (from scikit-learn->sentence_transformers) (3.1.0)\n",
            "Requirement already satisfied: pillow!=8.3.*,>=5.3.0 in /usr/local/lib/python3.8/dist-packages (from torchvision->sentence_transformers) (7.1.2)\n",
            "Requirement already satisfied: certifi>=2017.4.17 in /usr/local/lib/python3.8/dist-packages (from requests->huggingface-hub>=0.4.0->sentence_transformers) (2022.12.7)\n",
            "Requirement already satisfied: urllib3<1.27,>=1.21.1 in /usr/local/lib/python3.8/dist-packages (from requests->huggingface-hub>=0.4.0->sentence_transformers) (1.24.3)\n",
            "Requirement already satisfied: idna<3,>=2.5 in /usr/local/lib/python3.8/dist-packages (from requests->huggingface-hub>=0.4.0->sentence_transformers) (2.10)\n",
            "Requirement already satisfied: chardet<5,>=3.0.2 in /usr/local/lib/python3.8/dist-packages (from requests->huggingface-hub>=0.4.0->sentence_transformers) (4.0.0)\n",
            "Drive already mounted at /content/gdrive; to attempt to forcibly remount, call drive.mount(\"/content/gdrive\", force_remount=True).\n"
          ]
        }
      ]
    },
    {
      "cell_type": "markdown",
      "source": [
        "## Analyzing the data "
      ],
      "metadata": {
        "id": "76iDBJg_Ot9m"
      }
    },
    {
      "cell_type": "code",
      "source": [
        "def read_collection(f_path):\n",
        "  corpus = {}\n",
        "  with open(f_path, \"r\") as fp:\n",
        "    for line in tqdm.tqdm(fp, desc=\"reading {}\".format(f_path)):\n",
        "      did, dtext = line.strip().split(\"\\t\")\n",
        "      corpus[did] = dtext\n",
        "  return corpus"
      ],
      "metadata": {
        "id": "eVc55JT5Opq7"
      },
      "execution_count": null,
      "outputs": []
    },
    {
      "cell_type": "code",
      "source": [
        "import numpy as np\n",
        "def get_stat_list(arr):\n",
        "  print(\"minimum of arr : \", min(arr))\n",
        "  print(\"maximum of arr : \", max(arr)) \n",
        "  print(\"avg of arr : \", sum(arr)/len(arr)) \n",
        "  print(\"Q1 quantile of arr : \", np.quantile(arr, .25))\n",
        "  print(\"Q2 quantile of arr : \", np.quantile(arr, .50))\n",
        "  print(\"Q3 quantile of arr : \", np.quantile(arr, .75))\n",
        "  print(\"90% quantile of arr : \", np.quantile(arr, .90))\n",
        "  print(\"95% quantile of arr : \", np.quantile(arr, .95))\n",
        "  print(\"99% quantile of arr : \", np.quantile(arr, .99))\n",
        "  print(\"99.5% quantile of arr : \", np.quantile(arr, .995))\n",
        "  print(\"99.9% quantile of arr : \", np.quantile(arr, .999))"
      ],
      "metadata": {
        "id": "IMOeqQHDQ-n7"
      },
      "execution_count": null,
      "outputs": []
    },
    {
      "cell_type": "code",
      "source": [
        "f_path = base_path + \"queries.tsv\"\n",
        "queries = read_collection(f_path)\n",
        "len_queries = [len(item)/4.7 for item in list(queries.values())]\n",
        "get_stat_list(len_queries)"
      ],
      "metadata": {
        "colab": {
          "base_uri": "https://localhost:8080/"
        },
        "id": "hZ0mIZySOnBv",
        "outputId": "e7b78f11-66e1-4c9c-f804-398c24f6d5fd"
      },
      "execution_count": null,
      "outputs": [
        {
          "output_type": "stream",
          "name": "stderr",
          "text": [
            "reading ./gdrive/MyDrive/ChatGPT-RetrievalQA/queries.tsv: 24322it [00:00, 135527.87it/s]\n"
          ]
        },
        {
          "output_type": "stream",
          "name": "stdout",
          "text": [
            "minimum of arr :  2.7659574468085104\n",
            "maximum of arr :  130.0\n",
            "avg of arr :  35.31354154456116\n",
            "Q1 quantile of arr :  20.21276595744681\n",
            "Q2 quantile of arr :  36.59574468085106\n",
            "Q3 quantile of arr :  47.87234042553191\n",
            "90% quantile of arr :  55.53191489361702\n",
            "95% quantile of arr :  62.76595744680851\n",
            "99% quantile of arr :  89.95531914893635\n",
            "99.5% quantile of arr :  95.74468085106382\n",
            "99.9% quantile of arr :  103.62489361702133\n"
          ]
        }
      ]
    },
    {
      "cell_type": "code",
      "source": [
        "f_path = base_path + \"collection_h.tsv\"\n",
        "collection_h = read_collection(f_path)\n",
        "len_h = [len(item)/4.7 for item in list(collection_h.values())]\n",
        "get_stat_list(len_h)"
      ],
      "metadata": {
        "colab": {
          "base_uri": "https://localhost:8080/"
        },
        "id": "zjQL2WaPQmEB",
        "outputId": "b8abfa49-cce7-49c1-c368-cc846141354f"
      },
      "execution_count": null,
      "outputs": [
        {
          "output_type": "stream",
          "name": "stderr",
          "text": [
            "reading ./gdrive/MyDrive/ChatGPT-RetrievalQA/collection_h.tsv: 58546it [00:00, 85423.43it/s]\n"
          ]
        },
        {
          "output_type": "stream",
          "name": "stdout",
          "text": [
            "minimum of arr :  1.0638297872340425\n",
            "maximum of arr :  7828.297872340425\n",
            "avg of arr :  144.81161930498797\n",
            "Q1 quantile of arr :  44.680851063829785\n",
            "Q2 quantile of arr :  89.7872340425532\n",
            "Q3 quantile of arr :  175.53191489361703\n",
            "90% quantile of arr :  325.1063829787234\n",
            "95% quantile of arr :  455.9574468085106\n",
            "99% quantile of arr :  854.3723404255326\n",
            "99.5% quantile of arr :  1074.9734042553207\n",
            "99.9% quantile of arr :  1717.893617021284\n"
          ]
        }
      ]
    },
    {
      "cell_type": "code",
      "source": [
        "f_path = base_path + \"collection_c.tsv\"\n",
        "collection_c = read_collection(f_path)\n",
        "len_c = [len(item)/4.7 for item in list(collection_c.values())]\n",
        "get_stat_list(len_c)"
      ],
      "metadata": {
        "colab": {
          "base_uri": "https://localhost:8080/"
        },
        "id": "K4C4kWtkRHJm",
        "outputId": "5f171c7e-e4d2-4aa8-93c9-517577685068"
      },
      "execution_count": null,
      "outputs": [
        {
          "output_type": "stream",
          "name": "stderr",
          "text": [
            "reading ./gdrive/MyDrive/ChatGPT-RetrievalQA/collection_c.tsv: 26882it [00:00, 35485.71it/s]\n"
          ]
        },
        {
          "output_type": "stream",
          "name": "stdout",
          "text": [
            "minimum of arr :  3.404255319148936\n",
            "maximum of arr :  746.3829787234042\n",
            "avg of arr :  214.61359891218999\n",
            "Q1 quantile of arr :  160.2127659574468\n",
            "Q2 quantile of arr :  214.68085106382978\n",
            "Q3 quantile of arr :  263.40425531914894\n",
            "90% quantile of arr :  311.9148936170213\n",
            "95% quantile of arr :  344.6808510638298\n",
            "99% quantile of arr :  412.3808510638295\n",
            "99.5% quantile of arr :  445.8712765957449\n",
            "99.9% quantile of arr :  524.6453191489344\n"
          ]
        }
      ]
    },
    {
      "cell_type": "code",
      "execution_count": null,
      "metadata": {
        "id": "y2WeHkRV-jf7",
        "colab": {
          "base_uri": "https://localhost:8080/",
          "height": 498
        },
        "outputId": "67f1286f-623f-43cc-a21e-9c79fbfa99c6"
      },
      "outputs": [
        {
          "output_type": "display_data",
          "data": {
            "text/plain": [
              "<Figure size 576x576 with 1 Axes>"
            ],
            "image/png": "[encoded data removed]"
          },
          "metadata": {
            "needs_background": "light"
          }
        }
      ],
      "source": [
        "import numpy as np\n",
        "import pandas as pd\n",
        "np.random.seed(44)\n",
        "import matplotlib.pyplot as plt\n",
        "import seaborn as sns\n",
        "%matplotlib inline\n",
        "queries = len_queries#[2,\t20,\t47,\t130]#,\t2606.595745]\n",
        "human = len_h#[1,\t44,\t175,\t7828]#,\t5031.2]\n",
        "chatgpt = len_c#[3,\t160,\t263,\t746]\n",
        "\n",
        "df = pd.DataFrame(list(zip(queries, human, chatgpt, )),\n",
        "               columns =['Queries', \"Human\", 'ChatGPT'])\n",
        "# Plotting basic Box Plot:\n",
        "# sns.boxplot(x=\"day\", y=\"total_bill\", data=tips)\n",
        "# sns.boxplot(data=df)\n",
        "# deep, muted, bright, pastel, dark, colorblind\n",
        "# sns.boxplot(data=df, orient ='h', palette='Set2')\n",
        "# for paletter in ['Accent_r', 'Blues', 'Blues_r', 'BrBG', 'BrBG_r', 'BuGn', 'BuGn_r', 'BuPu', 'BuPu_r', 'CMRmap', 'CMRmap_r', 'Dark2', 'Dark2_r', 'GnBu', 'GnBu_r', 'Greens', 'Greens_r', 'Greys', 'Greys_r', 'OrRd', 'OrRd_r', 'Oranges', 'Oranges_r', 'PRGn', 'PRGn_r', 'Paired', 'Paired_r', 'Pastel1', 'Pastel1_r', 'Pastel2', 'Pastel2_r', 'PiYG', 'PiYG_r', 'PuBu', 'PuBuGn', 'PuBuGn_r', 'PuBu_r', 'PuOr', 'PuOr_r', 'PuRd', 'PuRd_r', 'Purples', 'Purples_r', 'RdBu', 'RdBu_r', 'RdGy', 'RdGy_r', 'RdPu', 'RdPu_r', 'RdYlBu', 'RdYlBu_r', 'RdYlGn', 'RdYlGn_r', 'Reds', 'Reds_r', 'Set1', 'Set1_r', 'Set2', 'Set2_r', 'Set3', 'Set3_r', 'Spectral', 'Spectral_r', 'Wistia', 'Wistia_r', 'YlGn', 'YlGnBu', 'YlGnBu_r', 'YlGn_r', 'YlOrBr', 'YlOrBr_r', 'YlOrRd', 'YlOrRd_r', 'afmhot', 'afmhot_r', 'autumn', 'autumn_r', 'binary', 'binary_r', 'bone', 'bone_r', 'brg', 'brg_r', 'bwr', 'bwr_r', 'cividis', 'cividis_r', 'cool', 'cool_r', 'coolwarm', 'coolwarm_r', 'copper', 'copper_r', 'crest', 'crest_r', 'cubehelix', 'cubehelix_r', 'flag', 'flag_r', 'flare', 'flare_r', 'gist_earth', 'gist_earth_r', 'gist_gray', 'gist_gray_r', 'gist_heat', 'gist_heat_r', 'gist_ncar', 'gist_ncar_r', 'gist_rainbow', 'gist_rainbow_r', 'gist_stern', 'gist_stern_r', 'gist_yarg', 'gist_yarg_r', 'gnuplot', 'gnuplot2', 'gnuplot2_r', 'gnuplot_r', 'gray', 'gray_r', 'hot', 'hot_r', 'hsv', 'hsv_r', 'icefire', 'icefire_r', 'inferno', 'inferno_r', 'jet', 'jet_r']:\n",
        "\n",
        "# sns.boxplot(data=df, orient ='h', palette='bwr_r')\n",
        "\n",
        "PROPS = {\n",
        "    'boxprops':{'facecolor':'white', 'edgecolor':'black'},\n",
        "    'medianprops':{'color':'red'},\n",
        "    'whiskerprops':{'color':'black'},\n",
        "    'capprops':{'color':'black'},\n",
        "}\n",
        "\n",
        "\n",
        "plt.figure(figsize=(8, 8))\n",
        "\n",
        "ax = sns.boxplot(data=df,\n",
        "            showfliers=False,\n",
        "            linewidth=1.4,\n",
        "            # orient ='h',\n",
        "            **PROPS\n",
        "            )\n",
        "increase_size = 6\n",
        "# boxes = ax.artists\n",
        "for ytick in ax.get_yticklabels():\n",
        "    ytick.set_color(\"black\")\n",
        "    ytick.set_fontsize(13+increase_size)\n",
        "for xtick in ax.get_xticklabels():\n",
        "    xtick.set_color(\"black\")\n",
        "    xtick.set_fontsize(12+increase_size)\n",
        "# for i,box in enumerate(boxes):\n",
        "#     box.set_facecolor('w')\n",
        "ax.set(ylim=(0, 450))\n",
        "\n",
        "# plt.xlabel('Context length', fontsize=13+increase_size, color=\"black\")\n",
        "plt.ylabel('length', fontsize=13+increase_size, color=\"black\")\n",
        "# plt.ylabel('Datasets', fontsize=15)\n",
        "# plt.legend(loc=\"upper right\")\n",
        "plt.savefig(\"boxplot.pdf\")\n"
      ]
    },
    {
      "cell_type": "code",
      "source": [],
      "metadata": {
        "id": "n6LnuMmI_peO"
      },
      "execution_count": null,
      "outputs": []
    }
  ]
}